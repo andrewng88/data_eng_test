{
 "cells": [
  {
   "cell_type": "code",
   "execution_count": 1,
   "metadata": {},
   "outputs": [],
   "source": [
    "# import appropriate libraries\n",
    "\n",
    "# to pass our secret location\n",
    "import configparser \n",
    "\n",
    "# for api extraction and transformation\n",
    "import requests \n",
    "import json \n",
    "import pandas as pd\n",
    "\n",
    "from datetime import datetime\n",
    "import dateutil.parser as parser\n",
    "\n",
    "import logging"
   ]
  },
  {
   "cell_type": "code",
   "execution_count": 2,
   "metadata": {},
   "outputs": [],
   "source": [
    "# output logging to api.log file\n",
    "logging.basicConfig(filename='output\\covid_api.log',\n",
    "                    level = logging.DEBUG,\n",
    "# format based on https://docs.python.org/3/library/logging.html#logrecord-attributes\n",
    "                    format='%(asctime)s:%(levelname)s:%(message)s')"
   ]
  },
  {
   "cell_type": "code",
   "execution_count": 3,
   "metadata": {},
   "outputs": [],
   "source": [
    "# Read a config file to get the location of an excel file \n",
    "config = configparser.ConfigParser()\n",
    "config.read('secret_location.ini')\n",
    "secret_location = config['DEFAULT']['secret_location']\n",
    "df = pd.read_excel(secret_location)"
   ]
  },
  {
   "cell_type": "code",
   "execution_count": 4,
   "metadata": {},
   "outputs": [],
   "source": [
    "# we use dictionary to help convert iso(number) to country id used by the API )\n",
    "# info used https://en.wikipedia.org/wiki/List_of_ISO_3166_country_codes\n",
    "iso_to_country = {392 : 'JPN', 840: 'USA'}\n",
    "\n",
    "# we set the rest of the variables\n",
    "cols_we_cared_for = ['date','iso','num_confirmed','num_deaths','num_recovered']\n",
    "url_pattern = 'https://covid-api.com/api/reports?date={}&iso={}'\n",
    "output_filename = 'output\\covid_data.xls'"
   ]
  },
  {
   "cell_type": "code",
   "execution_count": 5,
   "metadata": {},
   "outputs": [],
   "source": [
    "def extract_from_api(df,url_pattern,iso_to_country,cols_we_cared_for,output_filename):\n",
    "    \n",
    "    '''\n",
    "    this function helps us to extract information from the covid api\n",
    "    \n",
    "    inputs:\n",
    "    \n",
    "    df is a dataframe\n",
    "    url_pattern is a string\n",
    "    iso_to_country is a dictionary\n",
    "    cols_we_cared for is a list\n",
    "    output_filename is a string\n",
    "    \n",
    "    '''\n",
    "\n",
    "    #unit test for input\n",
    "    assert isinstance(df, pd.DataFrame),\"df with date and iso column\"\n",
    "    assert isinstance(url_pattern, str),\"string as https://covid-api.com/api/reports?date={}&iso={}\"\n",
    "    assert isinstance(iso_to_country, dict),\"dictionary {392 : 'JPN', 840: 'USA'}\"\n",
    "    assert isinstance(cols_we_cared_for, list),'list'\n",
    "    assert isinstance(output_filename, str),\"string\" \n",
    "    \n",
    "    df['cty'] = df.iso.apply(lambda x : iso_to_country[x])\n",
    "    \n",
    "    for index,row in df.iterrows():\n",
    "        date = row['date'].strftime(\"%Y-%m-%d\")\n",
    "        cty = row['cty']\n",
    "\n",
    "        # we try to connect to API , else we throw exception error\n",
    "        try:\n",
    "            # Create API endpoint\n",
    "            # Trigger GET request\n",
    "            url= url_pattern.format(date,cty)\n",
    "            response = requests.request(\"GET\", url)\n",
    "            # Convert JSON(dictionary datastructure)\n",
    "            api_data_dict = response.json()\n",
    "\n",
    "            #impute values to df based on .loc \n",
    "            df.loc[index,'num_confirmed'] = api_data_dict['data'][0]['confirmed'] \n",
    "            df.loc[index,'num_deaths'] = api_data_dict['data'][0]['deaths']\n",
    "            df.loc[index,'num_recovered'] = api_data_dict['data'][0]['recovered']\n",
    "\n",
    "            #logging data\n",
    "            input_log = 'inputs are {} ,{}'.format(date,cty)\n",
    "            output_log = 'extracted from api are confirmed:{}, deaths:{},recovered:{}\\n'\\\n",
    "                .format(api_data_dict['data'][0]['confirmed'],api_data_dict['data'][0]['deaths'],api_data_dict['data'][0]['recovered'])\n",
    "\n",
    "            logging.debug(input_log)\n",
    "            logging.debug(output_log)\n",
    "\n",
    "        except:\n",
    "            error = 'Failed to connect to API\\n'\n",
    "            logging.debug(error)\n",
    "            logging.debug(input_log)\n",
    "            raise RuntimeError(error)\n",
    "    \n",
    "    #convert to str else xls will treat it as timestamp\n",
    "    df['date']=df['date'].astype(str)\n",
    "    \n",
    "    # extract columns that we cared and save to excel\n",
    "    df[cols_we_cared_for].to_excel(output_filename,index=False)"
   ]
  },
  {
   "cell_type": "code",
   "execution_count": 6,
   "metadata": {},
   "outputs": [],
   "source": [
    "# run the above function\n",
    "extract_from_api(df,url_pattern,iso_to_country,cols_we_cared_for,output_filename)"
   ]
  }
 ],
 "metadata": {
  "kernelspec": {
   "display_name": "Python 3",
   "language": "python",
   "name": "python3"
  },
  "language_info": {
   "codemirror_mode": {
    "name": "ipython",
    "version": 3
   },
   "file_extension": ".py",
   "mimetype": "text/x-python",
   "name": "python",
   "nbconvert_exporter": "python",
   "pygments_lexer": "ipython3",
   "version": "3.7.4"
  }
 },
 "nbformat": 4,
 "nbformat_minor": 2
}
